{
 "cells": [
  {
   "cell_type": "code",
   "execution_count": 1,
   "id": "828b6bc7-8d6e-4d7d-a7ea-60cb82ef3372",
   "metadata": {},
   "outputs": [],
   "source": [
    "from math import sqrt\n",
    "\n"
   ]
  },
  {
   "cell_type": "code",
   "execution_count": 2,
   "id": "ca5c8954-863f-4f9a-8a0f-6dfc80541ef5",
   "metadata": {},
   "outputs": [],
   "source": [
    "class Point:\n",
    "    def __init__(self, latit_, longit_):\n",
    "        self.latit = latit_\n",
    "        self.longit = longit_\n",
    "\n",
    "    def euclidean_distance(self, another_point):\n",
    "        return sqrt((self.latit - another_point.latit) ** 2 + (self.longit - another_point.longit) ** 2)"
   ]
  },
  {
   "cell_type": "code",
   "execution_count": null,
   "id": "79262df0-85fe-483a-a6fc-6b9b2961b3ed",
   "metadata": {},
   "outputs": [],
   "source": []
  }
 ],
 "metadata": {
  "kernelspec": {
   "display_name": "Python 3 (ipykernel)",
   "language": "python",
   "name": "python3"
  },
  "language_info": {
   "codemirror_mode": {
    "name": "ipython",
    "version": 3
   },
   "file_extension": ".py",
   "mimetype": "text/x-python",
   "name": "python",
   "nbconvert_exporter": "python",
   "pygments_lexer": "ipython3",
   "version": "3.12.0"
  }
 },
 "nbformat": 4,
 "nbformat_minor": 5
}
