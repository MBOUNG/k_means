{
 "cells": [
  {
   "cell_type": "code",
   "execution_count": 2,
   "id": "96646ac3-c66c-48a7-9a85-7c54b6be1144",
   "metadata": {},
   "outputs": [],
   "source": [
    "import pandas as pd\n"
   ]
  },
  {
   "cell_type": "code",
   "execution_count": 3,
   "id": "49eea326-d8f5-4770-afb8-62971e464b67",
   "metadata": {},
   "outputs": [],
   "source": [
    "import numpy as np\n",
    "\n"
   ]
  },
  {
   "cell_type": "code",
   "execution_count": 21,
   "id": "8eb9e446-b068-4fd2-ba87-654a102b3aa4",
   "metadata": {},
   "outputs": [],
   "source": [
    "import random\n",
    "\n"
   ]
  },
  {
   "cell_type": "code",
   "execution_count": 4,
   "id": "86472b1d-a406-42cc-b96b-b96cd7ac5948",
   "metadata": {},
   "outputs": [],
   "source": [
    "import matplotlib.patches as mpatches"
   ]
  },
  {
   "cell_type": "code",
   "execution_count": 5,
   "id": "ed06e599-1a1a-47d6-ac9b-04560c59b93f",
   "metadata": {},
   "outputs": [],
   "source": [
    "import matplotlib.pyplot as plt"
   ]
  },
  {
   "cell_type": "code",
   "execution_count": 17,
   "id": "85685c4a-493a-4351-9559-1ce81ce4d14f",
   "metadata": {
    "scrolled": true
   },
   "outputs": [],
   "source": [
    "data = pd.read_csv('or.csv')\n",
    "\n"
   ]
  },
  {
   "cell_type": "code",
   "execution_count": 18,
   "id": "8c70a606-518f-4da4-9166-5db82cbc6be6",
   "metadata": {},
   "outputs": [
    {
     "data": {
      "text/html": [
       "<div>\n",
       "<style scoped>\n",
       "    .dataframe tbody tr th:only-of-type {\n",
       "        vertical-align: middle;\n",
       "    }\n",
       "\n",
       "    .dataframe tbody tr th {\n",
       "        vertical-align: top;\n",
       "    }\n",
       "\n",
       "    .dataframe thead th {\n",
       "        text-align: right;\n",
       "    }\n",
       "</style>\n",
       "<table border=\"1\" class=\"dataframe\">\n",
       "  <thead>\n",
       "    <tr style=\"text-align: right;\">\n",
       "      <th></th>\n",
       "      <th>J-Date;Date;Weekday;Open;High;Low;Close;Symbol</th>\n",
       "    </tr>\n",
       "  </thead>\n",
       "  <tbody>\n",
       "    <tr>\n",
       "      <th>0</th>\n",
       "      <td>1389-01-15;04/04/2010;Sunday;2680000;2680000;2...</td>\n",
       "    </tr>\n",
       "    <tr>\n",
       "      <th>1</th>\n",
       "      <td>1389-01-16;04/05/2010;Monday;2680000;2680000;2...</td>\n",
       "    </tr>\n",
       "    <tr>\n",
       "      <th>2</th>\n",
       "      <td>1389-01-17;04/06/2010;Tuesday;2680000;2680000;...</td>\n",
       "    </tr>\n",
       "    <tr>\n",
       "      <th>3</th>\n",
       "      <td>1389-01-18;04/07/2010;Wednesday;2710000;271000...</td>\n",
       "    </tr>\n",
       "    <tr>\n",
       "      <th>4</th>\n",
       "      <td>1389-01-20;04/09/2010;Friday;2720000;2720000;2...</td>\n",
       "    </tr>\n",
       "    <tr>\n",
       "      <th>...</th>\n",
       "      <td>...</td>\n",
       "    </tr>\n",
       "    <tr>\n",
       "      <th>4258</th>\n",
       "      <td>1402-10-16;01/06/2024;Saturday;302140000;30215...</td>\n",
       "    </tr>\n",
       "    <tr>\n",
       "      <th>4259</th>\n",
       "      <td>1402-10-17;01/07/2024;Sunday;302140000;3051500...</td>\n",
       "    </tr>\n",
       "    <tr>\n",
       "      <th>4260</th>\n",
       "      <td>1402-10-18;01/08/2024;Monday;304970000;3051500...</td>\n",
       "    </tr>\n",
       "    <tr>\n",
       "      <th>4261</th>\n",
       "      <td>1402-10-19;01/09/2024;Tuesday;303980000;308650...</td>\n",
       "    </tr>\n",
       "    <tr>\n",
       "      <th>4262</th>\n",
       "      <td>1402-10-20;01/10/2024;Wednesday;307970000;3166...</td>\n",
       "    </tr>\n",
       "  </tbody>\n",
       "</table>\n",
       "<p>4263 rows × 1 columns</p>\n",
       "</div>"
      ],
      "text/plain": [
       "         J-Date;Date;Weekday;Open;High;Low;Close;Symbol\n",
       "0     1389-01-15;04/04/2010;Sunday;2680000;2680000;2...\n",
       "1     1389-01-16;04/05/2010;Monday;2680000;2680000;2...\n",
       "2     1389-01-17;04/06/2010;Tuesday;2680000;2680000;...\n",
       "3     1389-01-18;04/07/2010;Wednesday;2710000;271000...\n",
       "4     1389-01-20;04/09/2010;Friday;2720000;2720000;2...\n",
       "...                                                 ...\n",
       "4258  1402-10-16;01/06/2024;Saturday;302140000;30215...\n",
       "4259  1402-10-17;01/07/2024;Sunday;302140000;3051500...\n",
       "4260  1402-10-18;01/08/2024;Monday;304970000;3051500...\n",
       "4261  1402-10-19;01/09/2024;Tuesday;303980000;308650...\n",
       "4262  1402-10-20;01/10/2024;Wednesday;307970000;3166...\n",
       "\n",
       "[4263 rows x 1 columns]"
      ]
     },
     "execution_count": 18,
     "metadata": {},
     "output_type": "execute_result"
    }
   ],
   "source": [
    "data"
   ]
  },
  {
   "cell_type": "code",
   "execution_count": 27,
   "id": "9984efed-cd98-4cac-ab75-99a530f88b35",
   "metadata": {},
   "outputs": [],
   "source": [
    "class KMeans:\n",
    "    def __init__(self, geo_locs, k):\n",
    "        self.geo_locations = geo_locs\n",
    "        self.k = k\n",
    "        self.clusters = None\n",
    "        self.means = []\n",
    "        self.debug = False"
   ]
  },
  {
   "cell_type": "code",
   "execution_count": 28,
   "id": "2584d254-6a61-4268-8681-d4175cbb50ba",
   "metadata": {},
   "outputs": [],
   "source": [
    "    def next_random(self, index, points, clusters):\n",
    "        # This method returns the next random node\n",
    "        # Pick the next node that has the maximum distance from other nodes\n",
    "        dist = {}\n",
    "        for point_1 in points:\n",
    "            if self.debug:\n",
    "                print(f\"point_1: {point_1.latit} {point_1.longit}\")\n",
    "            # Compute the distance of this node from all other points in the cluster\n",
    "            for cluster in clusters.values():\n",
    "                point_2 = cluster[0]\n",
    "                if self.debug:\n",
    "                    print(f\"point_2: {point_2.latit} {point_2.longit}\")\n",
    "                if point_1 not in dist:\n",
    "                    dist[point_1] = math.sqrt((point_1.latit - point_2.latit) ** 2 + (point_1.longit - point_2.longit) ** 2)\n",
    "                else:\n",
    "                    dist[point_1] += math.sqrt((point_1.latit - point_2.latit) ** 2 + (point_1.longit - point_2.longit) ** 2)\n",
    "        if self.debug:\n",
    "            for key, value in dist.items():\n",
    "                print(f\"({key.latit}, {key.longit}) ==> {value}\")\n",
    "        # Now let's return the point that has the maximum distance from previous nodes\n",
    "        max_point = max(dist, key=dist.get)\n",
    "        return max_point"
   ]
  },
  {
   "cell_type": "code",
   "execution_count": 29,
   "id": "021ba6f8-b304-42a2-ae3e-60ea234c7a0e",
   "metadata": {},
   "outputs": [],
   "source": [
    "   def update_means(self, means, threshold):\n",
    "        # Compare current means with the previous ones to see if we have to stop\n",
    "        for mean_1, mean_2 in zip(self.means, means):\n",
    "            if math.sqrt((mean_1.latit - mean_2.latit) ** 2 + (mean_1.longit - mean_2.longit) ** 2) > threshold:\n",
    "                return False\n",
    "        return True"
   ]
  },
  {
   "cell_type": "code",
   "execution_count": null,
   "id": "87f0f660-8054-4117-8054-f56a4db8f95c",
   "metadata": {},
   "outputs": [],
   "source": []
  }
 ],
 "metadata": {
  "kernelspec": {
   "display_name": "Python 3 (ipykernel)",
   "language": "python",
   "name": "python3"
  },
  "language_info": {
   "codemirror_mode": {
    "name": "ipython",
    "version": 3
   },
   "file_extension": ".py",
   "mimetype": "text/x-python",
   "name": "python",
   "nbconvert_exporter": "python",
   "pygments_lexer": "ipython3",
   "version": "3.12.0"
  }
 },
 "nbformat": 4,
 "nbformat_minor": 5
}
